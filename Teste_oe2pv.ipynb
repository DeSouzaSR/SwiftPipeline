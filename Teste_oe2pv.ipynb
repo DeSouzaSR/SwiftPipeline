{
 "cells": [
  {
   "cell_type": "code",
   "execution_count": 3,
   "metadata": {
    "collapsed": true
   },
   "outputs": [],
   "source": [
    "#!/usr/bin/env python\n",
    "#-*- coding:utf-8 -*-\n",
    "\n",
    "import numpy as np\n",
    "import pandas as pd\n",
    "import math\n",
    "from oe2pv import orbel_el2xv"
   ]
  },
  {
   "cell_type": "code",
   "execution_count": 4,
   "metadata": {
    "collapsed": true
   },
   "outputs": [],
   "source": [
    "planets = pd.read_csv(\"Mercury_input/planets_ini.csv\", index_col = \"planets_name\")"
   ]
  },
  {
   "cell_type": "code",
   "execution_count": 5,
   "metadata": {
    "collapsed": false
   },
   "outputs": [
    {
     "name": "stdout",
     "output_type": "stream",
     "text": [
      "Verificando...\n",
      "                      a         e        i      capom      omega          M  \\\n",
      "planets_name                                                                  \n",
      "Venus          0.723332  0.006773  3.39471   76.68069  131.53298  181.97973   \n",
      "Earth          1.000000  0.016710  0.00005  -11.26064  102.94719  100.46435   \n",
      "Mars           1.523662  0.093412  1.85061   49.57854  336.04084  355.45332   \n",
      "Jupiter        5.203363  0.048393  1.30530  100.55615   14.75385   34.40438   \n",
      "Saturn         9.537070  0.054151  2.48446  113.71504   92.43194   49.94432   \n",
      "Uranus        19.191264  0.047168  0.76986   74.22988  170.96424  313.23218   \n",
      "Neptune       30.068963  0.008586  1.76917  131.72169   44.97135  304.88003   \n",
      "\n",
      "                      mass      radio      period  \n",
      "planets_name                                       \n",
      "Venus         4.867500e+24     6051.8   224701.00  \n",
      "Earth         5.972300e+24  6378137.0   365256.00  \n",
      "Mars          6.417100e+23     3396.2      686.98  \n",
      "Jupiter       1.898190e+27    71492.0  4332589.00  \n",
      "Saturn        5.683400e+26    60268.0    10759.22  \n",
      "Uranus        8.681300e+25    25559.0    30685.40  \n",
      "Neptune       1.024130e+26    24764.0    60189.00  \n"
     ]
    }
   ],
   "source": [
    "print(\"Verificando...\")\n",
    "print(planets)"
   ]
  },
  {
   "cell_type": "code",
   "execution_count": 6,
   "metadata": {
    "collapsed": false
   },
   "outputs": [
    {
     "name": "stdout",
     "output_type": "stream",
     "text": [
      "                      a         e        i      capom      omega          M  \\\n",
      "planets_name                                                                  \n",
      "Venus          0.723332  0.006773  3.39471   76.68069  131.53298  181.97973   \n",
      "Earth          1.000000  0.016710  0.00005  -11.26064  102.94719  100.46435   \n",
      "Mars           1.523662  0.093412  1.85061   49.57854  336.04084  355.45332   \n",
      "Jupiter        5.203363  0.048393  1.30530  100.55615   14.75385   34.40438   \n",
      "Saturn         9.537070  0.054151  2.48446  113.71504   92.43194   49.94432   \n",
      "Uranus        19.191264  0.047168  0.76986   74.22988  170.96424  313.23218   \n",
      "Neptune       30.068963  0.008586  1.76917  131.72169   44.97135  304.88003   \n",
      "\n",
      "                      mass      radio      period     mass_grav      gmpl  \\\n",
      "planets_name                                                                \n",
      "Venus         4.867500e+24     6051.8   224701.00  7.243456e-10  0.000296   \n",
      "Earth         5.972300e+24  6378137.0   365256.00  8.887539e-10  0.000296   \n",
      "Mars          6.417100e+23     3396.2      686.98  9.549457e-11  0.000296   \n",
      "Jupiter       1.898190e+27    71492.0  4332589.00  2.824747e-07  0.000296   \n",
      "Saturn        5.683400e+26    60268.0    10759.22  8.457619e-08  0.000296   \n",
      "Uranus        8.681300e+25    25559.0    30685.40  1.291887e-08  0.000296   \n",
      "Neptune       1.024130e+26    24764.0    60189.00  1.524035e-08  0.000296   \n",
      "\n",
      "                      x         y             z        vx        vy  \\\n",
      "planets_name                                                          \n",
      "Venus         -0.693951 -0.182644  3.756081e-02  0.005182 -0.019681   \n",
      "Earth          0.038783  0.982563  8.475503e-07 -0.017479  0.000670   \n",
      "Mars          -1.120359 -1.216589  2.070521e-03  0.009726 -0.008299   \n",
      "Jupiter        1.624341 -5.204891 -1.465851e-02  0.006878  0.002094   \n",
      "Saturn        -8.998631 -0.888266  3.729740e-01  0.000684 -0.005823   \n",
      "Uranus       -18.510975 -2.470160  2.303558e-01  0.000688 -0.003974   \n",
      "Neptune       30.205400  2.577684 -7.493463e-01 -0.000270  0.003098   \n",
      "\n",
      "                        vz  \n",
      "planets_name                \n",
      "Venus        -5.680931e-04  \n",
      "Earth        -2.404959e-09  \n",
      "Mars         -4.130948e-04  \n",
      "Jupiter      -1.628159e-04  \n",
      "Saturn        7.442799e-05  \n",
      "Uranus       -2.341174e-05  \n",
      "Neptune      -5.747276e-05  \n"
     ]
    }
   ],
   "source": [
    "#Create new column, considering G = 1\n",
    "# Mass of the Sum, in kg\n",
    "mass_sun_kg = 1988500e24\n",
    "\n",
    "# Mass of the Sun, with G = 1\n",
    "mass_sun_grav = 2.959139768995959e-04\n",
    "\n",
    "# Conic section is ellipse\n",
    "ialpha = -1\n",
    "\n",
    "# Gravitational factor of the Sun\n",
    "gm =  2.959139768995959e-04\n",
    "\n",
    "# Create mass_grav column\n",
    "planets['mass_grav'] = planets.mass * mass_sun_grav / mass_sun_kg\n",
    "\n",
    "# Create gmpl\n",
    "planets['gmpl'] = gm + planets.mass_grav\n",
    "\n",
    "# Creating variables to use the \"orbel\" function\n",
    "gm = planets['gmpl']\n",
    "a = planets['a']\n",
    "e = planets['e']\n",
    "inc = planets['i']\n",
    "capom = planets['capom']\n",
    "omega = planets['omega']\n",
    "capm = planets['M']\n",
    "P = planets['period']\n",
    "rpl = planets['radio']\n",
    "\n",
    "# Create position and velocity columns\n",
    "#\n",
    "# The module eo2pv.so, constructed from the Swift conversion subroutine,\n",
    "# will be used.\n",
    "\n",
    "len_planets = len(planets)\n",
    "\n",
    "x = np.zeros(len_planets)\n",
    "y = np.zeros(len_planets)\n",
    "z = np.zeros(len_planets)\n",
    "vx = np.zeros(len_planets)\n",
    "vy = np.zeros(len_planets)\n",
    "vz = np.zeros(len_planets)\n",
    "\n",
    "for j in range(len(planets)):\n",
    "    x[j], y[j], z[j], vx[j], vy[j], vz[j] = orbel_el2xv(gm[j],\\\n",
    "\t\t\t\t\t\t\t\t\t\tialpha, a[j],e[j],\\\n",
    "        \t\t\t\t\t\t\t\t\tmath.radians(inc[j]),\\\n",
    "                                            math.radians(capom[j]),\\\n",
    "                                            math.radians(omega[j]),\\\n",
    "                                            capm[j])\n",
    "\n",
    "\n",
    "# Create colums x, y, v, vx, vy and vz\n",
    "planets['x'] = x\n",
    "planets['y'] = y\n",
    "planets['z'] = z\n",
    "planets['vx'] = vx\n",
    "planets['vy'] = vy\n",
    "planets['vz'] = vz\n",
    "\n",
    "print(planets)"
   ]
  },
  {
   "cell_type": "code",
   "execution_count": null,
   "metadata": {
    "collapsed": true
   },
   "outputs": [],
   "source": []
  }
 ],
 "metadata": {
  "kernelspec": {
   "display_name": "Python 3",
   "language": "python",
   "name": "python3"
  },
  "language_info": {
   "codemirror_mode": {
    "name": "ipython",
    "version": 3
   },
   "file_extension": ".py",
   "mimetype": "text/x-python",
   "name": "python",
   "nbconvert_exporter": "python",
   "pygments_lexer": "ipython3",
   "version": "3.6.0"
  }
 },
 "nbformat": 4,
 "nbformat_minor": 2
}
